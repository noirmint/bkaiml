{
  "nbformat": 4,
  "nbformat_minor": 0,
  "metadata": {
    "colab": {
      "provenance": []
    },
    "kernelspec": {
      "name": "python3",
      "display_name": "Python 3"
    },
    "language_info": {
      "name": "python"
    }
  },
  "cells": [
    {
      "cell_type": "markdown",
      "source": [
        "1. Mount Google Drive"
      ],
      "metadata": {
        "id": "L-CO591I-yqX"
      }
    },
    {
      "cell_type": "code",
      "execution_count": null,
      "metadata": {
        "id": "nSiSz6Jh92-W"
      },
      "outputs": [],
      "source": [
        "from google.colab import drive\n",
        "drive.mount('/content/drive/')"
      ]
    },
    {
      "cell_type": "markdown",
      "source": [
        "2. Change into the `lab1` directory"
      ],
      "metadata": {
        "id": "THxWPuIK_HD1"
      }
    },
    {
      "cell_type": "code",
      "source": [
        "import os\n",
        "os.chdir('/content/drive/My Drive/lab1')"
      ],
      "metadata": {
        "id": "jWcvllEB_EL-"
      },
      "execution_count": null,
      "outputs": []
    },
    {
      "cell_type": "markdown",
      "source": [
        "3. List files in the directory"
      ],
      "metadata": {
        "id": "Tr-4lX73_iOT"
      }
    },
    {
      "cell_type": "code",
      "source": [
        "!ls"
      ],
      "metadata": {
        "id": "Ki83dmay_jNi"
      },
      "execution_count": null,
      "outputs": []
    },
    {
      "cell_type": "markdown",
      "source": [
        "4. Run the lab script"
      ],
      "metadata": {
        "id": "qDKitv63_km8"
      }
    },
    {
      "cell_type": "code",
      "source": [
        "!python3 ridge_regression.py"
      ],
      "metadata": {
        "id": "Z1FnQsdD_rMi"
      },
      "execution_count": null,
      "outputs": []
    }
  ]
}